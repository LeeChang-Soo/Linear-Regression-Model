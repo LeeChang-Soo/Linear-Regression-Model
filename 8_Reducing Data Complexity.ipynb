{
 "cells": [
  {
   "cell_type": "markdown",
   "metadata": {},
   "source": [
    "**Part III. Advanced Marketing Applications**\n",
    "\n",
    "**8.Reducing Data Complexity**\n",
    "\n",
    "**8.1 Consumer Brand Rating Data**"
   ]
  },
  {
   "cell_type": "code",
   "execution_count": 1,
   "metadata": {},
   "outputs": [
    {
     "data": {
      "text/html": [
       "<table>\n",
       "<thead><tr><th scope=col>perform</th><th scope=col>leader</th><th scope=col>latest</th><th scope=col>fun</th><th scope=col>serious</th><th scope=col>bargain</th><th scope=col>value</th><th scope=col>trendy</th><th scope=col>rebuy</th><th scope=col>brand</th></tr></thead>\n",
       "<tbody>\n",
       "\t<tr><td>2 </td><td>4 </td><td> 8</td><td>8 </td><td>2 </td><td>9 </td><td>7 </td><td>4 </td><td>6 </td><td>a </td></tr>\n",
       "\t<tr><td>1 </td><td>1 </td><td> 4</td><td>7 </td><td>1 </td><td>1 </td><td>1 </td><td>2 </td><td>2 </td><td>a </td></tr>\n",
       "\t<tr><td>2 </td><td>3 </td><td> 5</td><td>9 </td><td>2 </td><td>9 </td><td>5 </td><td>1 </td><td>6 </td><td>a </td></tr>\n",
       "\t<tr><td>1 </td><td>6 </td><td>10</td><td>8 </td><td>3 </td><td>4 </td><td>5 </td><td>2 </td><td>1 </td><td>a </td></tr>\n",
       "\t<tr><td>1 </td><td>1 </td><td> 5</td><td>8 </td><td>1 </td><td>9 </td><td>9 </td><td>1 </td><td>1 </td><td>a </td></tr>\n",
       "\t<tr><td>2 </td><td>8 </td><td> 9</td><td>5 </td><td>3 </td><td>8 </td><td>7 </td><td>1 </td><td>2 </td><td>a </td></tr>\n",
       "</tbody>\n",
       "</table>\n"
      ],
      "text/latex": [
       "\\begin{tabular}{r|llllllllll}\n",
       " perform & leader & latest & fun & serious & bargain & value & trendy & rebuy & brand\\\\\n",
       "\\hline\n",
       "\t 2  & 4  &  8 & 8  & 2  & 9  & 7  & 4  & 6  & a \\\\\n",
       "\t 1  & 1  &  4 & 7  & 1  & 1  & 1  & 2  & 2  & a \\\\\n",
       "\t 2  & 3  &  5 & 9  & 2  & 9  & 5  & 1  & 6  & a \\\\\n",
       "\t 1  & 6  & 10 & 8  & 3  & 4  & 5  & 2  & 1  & a \\\\\n",
       "\t 1  & 1  &  5 & 8  & 1  & 9  & 9  & 1  & 1  & a \\\\\n",
       "\t 2  & 8  &  9 & 5  & 3  & 8  & 7  & 1  & 2  & a \\\\\n",
       "\\end{tabular}\n"
      ],
      "text/markdown": [
       "\n",
       "perform | leader | latest | fun | serious | bargain | value | trendy | rebuy | brand | \n",
       "|---|---|---|---|---|---|\n",
       "| 2  | 4  |  8 | 8  | 2  | 9  | 7  | 4  | 6  | a  | \n",
       "| 1  | 1  |  4 | 7  | 1  | 1  | 1  | 2  | 2  | a  | \n",
       "| 2  | 3  |  5 | 9  | 2  | 9  | 5  | 1  | 6  | a  | \n",
       "| 1  | 6  | 10 | 8  | 3  | 4  | 5  | 2  | 1  | a  | \n",
       "| 1  | 1  |  5 | 8  | 1  | 9  | 9  | 1  | 1  | a  | \n",
       "| 2  | 8  |  9 | 5  | 3  | 8  | 7  | 1  | 2  | a  | \n",
       "\n",
       "\n"
      ],
      "text/plain": [
       "  perform leader latest fun serious bargain value trendy rebuy brand\n",
       "1 2       4       8     8   2       9       7     4      6     a    \n",
       "2 1       1       4     7   1       1       1     2      2     a    \n",
       "3 2       3       5     9   2       9       5     1      6     a    \n",
       "4 1       6      10     8   3       4       5     2      1     a    \n",
       "5 1       1       5     8   1       9       9     1      1     a    \n",
       "6 2       8       9     5   3       8       7     1      2     a    "
      ]
     },
     "metadata": {},
     "output_type": "display_data"
    }
   ],
   "source": [
    "brand.ratings = read.csv(\"http://goo.gl/IQl8nc\")\n",
    "head(brand.ratings)"
   ]
  },
  {
   "cell_type": "code",
   "execution_count": 2,
   "metadata": {},
   "outputs": [
    {
     "data": {
      "text/html": [
       "<table>\n",
       "<thead><tr><th></th><th scope=col>perform</th><th scope=col>leader</th><th scope=col>latest</th><th scope=col>fun</th><th scope=col>serious</th><th scope=col>bargain</th><th scope=col>value</th><th scope=col>trendy</th><th scope=col>rebuy</th><th scope=col>brand</th></tr></thead>\n",
       "<tbody>\n",
       "\t<tr><th scope=row>995</th><td>4 </td><td>2 </td><td> 8</td><td> 7</td><td>1 </td><td>3 </td><td>3 </td><td>5 </td><td>2 </td><td>j </td></tr>\n",
       "\t<tr><th scope=row>996</th><td>2 </td><td>2 </td><td> 3</td><td> 6</td><td>4 </td><td>8 </td><td>5 </td><td>1 </td><td>2 </td><td>j </td></tr>\n",
       "\t<tr><th scope=row>997</th><td>3 </td><td>2 </td><td> 6</td><td> 7</td><td>1 </td><td>3 </td><td>3 </td><td>2 </td><td>1 </td><td>j </td></tr>\n",
       "\t<tr><th scope=row>998</th><td>1 </td><td>1 </td><td>10</td><td>10</td><td>1 </td><td>6 </td><td>5 </td><td>5 </td><td>2 </td><td>j </td></tr>\n",
       "\t<tr><th scope=row>999</th><td>1 </td><td>1 </td><td> 7</td><td> 5</td><td>1 </td><td>1 </td><td>2 </td><td>5 </td><td>1 </td><td>j </td></tr>\n",
       "\t<tr><th scope=row>1000</th><td>7 </td><td>4 </td><td> 7</td><td> 8</td><td>4 </td><td>1 </td><td>2 </td><td>5 </td><td>1 </td><td>j </td></tr>\n",
       "</tbody>\n",
       "</table>\n"
      ],
      "text/latex": [
       "\\begin{tabular}{r|llllllllll}\n",
       "  & perform & leader & latest & fun & serious & bargain & value & trendy & rebuy & brand\\\\\n",
       "\\hline\n",
       "\t995 & 4  & 2  &  8 &  7 & 1  & 3  & 3  & 5  & 2  & j \\\\\n",
       "\t996 & 2  & 2  &  3 &  6 & 4  & 8  & 5  & 1  & 2  & j \\\\\n",
       "\t997 & 3  & 2  &  6 &  7 & 1  & 3  & 3  & 2  & 1  & j \\\\\n",
       "\t998 & 1  & 1  & 10 & 10 & 1  & 6  & 5  & 5  & 2  & j \\\\\n",
       "\t999 & 1  & 1  &  7 &  5 & 1  & 1  & 2  & 5  & 1  & j \\\\\n",
       "\t1000 & 7  & 4  &  7 &  8 & 4  & 1  & 2  & 5  & 1  & j \\\\\n",
       "\\end{tabular}\n"
      ],
      "text/markdown": [
       "\n",
       "| <!--/--> | perform | leader | latest | fun | serious | bargain | value | trendy | rebuy | brand | \n",
       "|---|---|---|---|---|---|\n",
       "| 995 | 4  | 2  |  8 |  7 | 1  | 3  | 3  | 5  | 2  | j  | \n",
       "| 996 | 2  | 2  |  3 |  6 | 4  | 8  | 5  | 1  | 2  | j  | \n",
       "| 997 | 3  | 2  |  6 |  7 | 1  | 3  | 3  | 2  | 1  | j  | \n",
       "| 998 | 1  | 1  | 10 | 10 | 1  | 6  | 5  | 5  | 2  | j  | \n",
       "| 999 | 1  | 1  |  7 |  5 | 1  | 1  | 2  | 5  | 1  | j  | \n",
       "| 1000 | 7  | 4  |  7 |  8 | 4  | 1  | 2  | 5  | 1  | j  | \n",
       "\n",
       "\n"
      ],
      "text/plain": [
       "     perform leader latest fun serious bargain value trendy rebuy brand\n",
       "995  4       2       8      7  1       3       3     5      2     j    \n",
       "996  2       2       3      6  4       8       5     1      2     j    \n",
       "997  3       2       6      7  1       3       3     2      1     j    \n",
       "998  1       1      10     10  1       6       5     5      2     j    \n",
       "999  1       1       7      5  1       1       2     5      1     j    \n",
       "1000 7       4       7      8  4       1       2     5      1     j    "
      ]
     },
     "metadata": {},
     "output_type": "display_data"
    }
   ],
   "source": [
    "tail(brand.ratings)"
   ]
  },
  {
   "cell_type": "code",
   "execution_count": 3,
   "metadata": {},
   "outputs": [
    {
     "data": {
      "text/plain": [
       "    perform           leader           latest            fun        \n",
       " Min.   : 1.000   Min.   : 1.000   Min.   : 1.000   Min.   : 1.000  \n",
       " 1st Qu.: 1.000   1st Qu.: 2.000   1st Qu.: 4.000   1st Qu.: 4.000  \n",
       " Median : 4.000   Median : 4.000   Median : 7.000   Median : 6.000  \n",
       " Mean   : 4.488   Mean   : 4.417   Mean   : 6.195   Mean   : 6.068  \n",
       " 3rd Qu.: 7.000   3rd Qu.: 6.000   3rd Qu.: 9.000   3rd Qu.: 8.000  \n",
       " Max.   :10.000   Max.   :10.000   Max.   :10.000   Max.   :10.000  \n",
       "                                                                    \n",
       "    serious          bargain           value            trendy     \n",
       " Min.   : 1.000   Min.   : 1.000   Min.   : 1.000   Min.   : 1.00  \n",
       " 1st Qu.: 2.000   1st Qu.: 2.000   1st Qu.: 2.000   1st Qu.: 3.00  \n",
       " Median : 4.000   Median : 4.000   Median : 4.000   Median : 5.00  \n",
       " Mean   : 4.323   Mean   : 4.259   Mean   : 4.337   Mean   : 5.22  \n",
       " 3rd Qu.: 6.000   3rd Qu.: 6.000   3rd Qu.: 6.000   3rd Qu.: 7.00  \n",
       " Max.   :10.000   Max.   :10.000   Max.   :10.000   Max.   :10.00  \n",
       "                                                                   \n",
       "     rebuy            brand    \n",
       " Min.   : 1.000   a      :100  \n",
       " 1st Qu.: 1.000   b      :100  \n",
       " Median : 3.000   c      :100  \n",
       " Mean   : 3.727   d      :100  \n",
       " 3rd Qu.: 5.000   e      :100  \n",
       " Max.   :10.000   f      :100  \n",
       "                  (Other):400  "
      ]
     },
     "metadata": {},
     "output_type": "display_data"
    }
   ],
   "source": [
    "summary(brand.ratings)"
   ]
  },
  {
   "cell_type": "code",
   "execution_count": 4,
   "metadata": {},
   "outputs": [
    {
     "name": "stdout",
     "output_type": "stream",
     "text": [
      "'data.frame':\t1000 obs. of  10 variables:\n",
      " $ perform: int  2 1 2 1 1 2 1 2 2 3 ...\n",
      " $ leader : int  4 1 3 6 1 8 1 1 1 1 ...\n",
      " $ latest : int  8 4 5 10 5 9 5 7 8 9 ...\n",
      " $ fun    : int  8 7 9 8 8 5 7 5 10 8 ...\n",
      " $ serious: int  2 1 2 3 1 3 1 2 1 1 ...\n",
      " $ bargain: int  9 1 9 4 9 8 5 8 7 3 ...\n",
      " $ value  : int  7 1 5 5 9 7 1 7 7 3 ...\n",
      " $ trendy : int  4 2 1 2 1 1 1 7 5 4 ...\n",
      " $ rebuy  : int  6 2 6 1 1 2 1 1 1 1 ...\n",
      " $ brand  : Factor w/ 10 levels \"a\",\"b\",\"c\",\"d\",..: 1 1 1 1 1 1 1 1 1 1 ...\n"
     ]
    }
   ],
   "source": [
    "str(brand.ratings)"
   ]
  },
  {
   "cell_type": "markdown",
   "metadata": {},
   "source": [
    "**8.1.1 Rescaling the Data**\n",
    "\n",
    "A common procedure is to center each variable by subtracting its mean from every observation, and then rescale those centered values as units of standard deviation. This is commonly called ***standardizing, normalizing,or Z scoring*** the data"
   ]
  },
  {
   "cell_type": "code",
   "execution_count": 6,
   "metadata": {},
   "outputs": [
    {
     "data": {
      "text/plain": [
       "   Min. 1st Qu.  Median    Mean 3rd Qu.    Max. \n",
       "-1.7295 -0.8647  0.0000  0.0000  0.8647  1.7295 "
      ]
     },
     "metadata": {},
     "output_type": "display_data"
    }
   ],
   "source": [
    "x = 1:1000\n",
    "x.sc = (x-mean(x)) / sd(x)\n",
    "summary(x.sc)"
   ]
  },
  {
   "cell_type": "code",
   "execution_count": 7,
   "metadata": {},
   "outputs": [
    {
     "data": {
      "text/plain": [
       "    perform            leader            latest             fun          \n",
       " Min.   :-1.0888   Min.   :-1.3100   Min.   :-1.6878   Min.   :-1.84677  \n",
       " 1st Qu.:-1.0888   1st Qu.:-0.9266   1st Qu.:-0.7131   1st Qu.:-0.75358  \n",
       " Median :-0.1523   Median :-0.1599   Median : 0.2615   Median :-0.02478  \n",
       " Mean   : 0.0000   Mean   : 0.0000   Mean   : 0.0000   Mean   : 0.00000  \n",
       " 3rd Qu.: 0.7842   3rd Qu.: 0.6069   3rd Qu.: 0.9113   3rd Qu.: 0.70402  \n",
       " Max.   : 1.7206   Max.   : 2.1404   Max.   : 1.2362   Max.   : 1.43281  \n",
       "                                                                         \n",
       "    serious           bargain             value             trendy        \n",
       " Min.   :-1.1961   Min.   :-1.22196   Min.   :-1.3912   Min.   :-1.53897  \n",
       " 1st Qu.:-0.8362   1st Qu.:-0.84701   1st Qu.:-0.9743   1st Qu.:-0.80960  \n",
       " Median :-0.1163   Median :-0.09711   Median :-0.1405   Median :-0.08023  \n",
       " Mean   : 0.0000   Mean   : 0.00000   Mean   : 0.0000   Mean   : 0.00000  \n",
       " 3rd Qu.: 0.6036   3rd Qu.: 0.65279   3rd Qu.: 0.6933   3rd Qu.: 0.64914  \n",
       " Max.   : 2.0434   Max.   : 2.15258   Max.   : 2.3610   Max.   : 1.74319  \n",
       "                                                                          \n",
       "     rebuy             brand    \n",
       " Min.   :-1.0717   a      :100  \n",
       " 1st Qu.:-1.0717   b      :100  \n",
       " Median :-0.2857   c      :100  \n",
       " Mean   : 0.0000   d      :100  \n",
       " 3rd Qu.: 0.5003   e      :100  \n",
       " Max.   : 2.4652   f      :100  \n",
       "                   (Other):400  "
      ]
     },
     "metadata": {},
     "output_type": "display_data"
    }
   ],
   "source": [
    "brand.sc = brand.ratings\n",
    "brand.sc[,1:9] = scale(brand.sc[,1:9])\n",
    "summary(brand.sc)"
   ]
  },
  {
   "cell_type": "markdown",
   "metadata": {},
   "source": [
    "In corrplot(), the argument order=\"hclust\" reorders the rows and columns according to variables’ similarity in a hierarchical cluster solution. The result is shown in Fig, where we see that the ratings seem to group into three clusters of similar variables, a hypothesis we examine in detail in this chapter."
   ]
  },
  {
   "cell_type": "code",
   "execution_count": 9,
   "metadata": {},
   "outputs": [
    {
     "name": "stderr",
     "output_type": "stream",
     "text": [
      "Installing package into 'C:/Users/cl44343/Documents/R/win-library/3.4'\n",
      "(as 'lib' is unspecified)\n"
     ]
    },
    {
     "name": "stdout",
     "output_type": "stream",
     "text": [
      "package 'corrplot' successfully unpacked and MD5 sums checked\n",
      "\n",
      "The downloaded binary packages are in\n",
      "\tC:\\Temp\\RtmpYrBolK\\downloaded_packages\n"
     ]
    }
   ],
   "source": [
    "install.packages('corrplot')\n",
    "library(corrplot)"
   ]
  },
  {
   "cell_type": "code",
   "execution_count": 13,
   "metadata": {
    "scrolled": true
   },
   "outputs": [
    {
     "data": {
      "image/png": "[encoded data removed]",
      "text/plain": [
       "Plot with title \"\""
      ]
     },
     "metadata": {},
     "output_type": "display_data"
    }
   ],
   "source": [
    "corrplot(cor(brand.sc[,1:9]), order='hclust')"
   ]
  },
  {
   "cell_type": "markdown",
   "metadata": {},
   "source": [
    "Fig. 8.1. Correlation plot for the simulated consumer brand ratings.\n",
    "This visualization of the basic data appears to show three general clusters\n",
    "that comprise *fun/latest/trendy*, *rebuy/bargain/value*, and *perform/leader /serious*, respectively."
   ]
  },
  {
   "cell_type": "markdown",
   "metadata": {},
   "source": [
    "**8.1.2 Aggregate Mean Ratings by Brand**"
   ]
  },
  {
   "cell_type": "code",
   "execution_count": 21,
   "metadata": {},
   "outputs": [
    {
     "data": {
      "text/html": [
       "<table>\n",
       "<thead><tr><th scope=col>brand</th><th scope=col>perform</th><th scope=col>leader</th><th scope=col>latest</th><th scope=col>fun</th><th scope=col>serious</th><th scope=col>bargain</th><th scope=col>value</th><th scope=col>trendy</th><th scope=col>rebuy</th></tr></thead>\n",
       "<tbody>\n",
       "\t<tr><td>a          </td><td>-0.88591874</td><td>-0.5279035 </td><td> 0.4109732 </td><td> 0.6566458 </td><td>-0.91894067</td><td> 0.21409609</td><td> 0.18469264</td><td>-0.52514473</td><td>-0.59616642</td></tr>\n",
       "\t<tr><td>b          </td><td> 0.93087022</td><td> 1.0707584 </td><td> 0.7261069 </td><td>-0.9722147 </td><td> 1.18314061</td><td> 0.04161938</td><td> 0.15133957</td><td> 0.74030819</td><td> 0.23697320</td></tr>\n",
       "\t<tr><td>c          </td><td> 0.64992347</td><td> 1.1627677 </td><td>-0.1023372 </td><td>-0.8446753 </td><td> 1.22273461</td><td>-0.60704302</td><td>-0.44067747</td><td> 0.02552787</td><td>-0.13243776</td></tr>\n",
       "\t<tr><td>d          </td><td>-0.67989112</td><td>-0.5930767 </td><td> 0.3524948 </td><td> 0.1865719 </td><td>-0.69217505</td><td>-0.88075605</td><td>-0.93263529</td><td> 0.73666135</td><td>-0.49398892</td></tr>\n",
       "\t<tr><td>e          </td><td>-0.56439079</td><td> 0.1928362 </td><td> 0.4564564 </td><td> 0.2958914 </td><td> 0.04211361</td><td> 0.55155051</td><td> 0.41816415</td><td> 0.13857986</td><td> 0.03654811</td></tr>\n",
       "\t<tr><td>f          </td><td>-0.05868665</td><td> 0.2695106 </td><td>-1.2621589 </td><td>-0.2179102 </td><td> 0.58923066</td><td> 0.87400696</td><td> 1.02268859</td><td>-0.81324496</td><td> 1.35699580</td></tr>\n",
       "\t<tr><td>g          </td><td> 0.91838369</td><td>-0.1675336 </td><td>-1.2849005 </td><td>-0.5167168 </td><td>-0.53379906</td><td> 0.89650392</td><td> 1.25616009</td><td>-1.27639344</td><td> 1.36092571</td></tr>\n",
       "\t<tr><td>h          </td><td>-0.01498383</td><td>-0.2978802 </td><td> 0.5019396 </td><td> 0.7149495 </td><td>-0.14145855</td><td>-0.73827529</td><td>-0.78254646</td><td> 0.86430070</td><td>-0.60402622</td></tr>\n",
       "\t<tr><td>i          </td><td> 0.33463879</td><td>-0.3208825 </td><td> 0.3557436 </td><td> 0.4124989 </td><td>-0.14865746</td><td>-0.25459062</td><td>-0.80339213</td><td> 0.59078782</td><td>-0.20317603</td></tr>\n",
       "\t<tr><td>j          </td><td>-0.62994504</td><td>-0.7885965 </td><td>-0.1543180 </td><td> 0.2849595 </td><td>-0.60218870</td><td>-0.09711188</td><td>-0.07379367</td><td>-0.48138267</td><td>-0.96164748</td></tr>\n",
       "</tbody>\n",
       "</table>\n"
      ],
      "text/latex": [
       "\\begin{tabular}{r|llllllllll}\n",
       " brand & perform & leader & latest & fun & serious & bargain & value & trendy & rebuy\\\\\n",
       "\\hline\n",
       "\t a           & -0.88591874 & -0.5279035  &  0.4109732  &  0.6566458  & -0.91894067 &  0.21409609 &  0.18469264 & -0.52514473 & -0.59616642\\\\\n",
       "\t b           &  0.93087022 &  1.0707584  &  0.7261069  & -0.9722147  &  1.18314061 &  0.04161938 &  0.15133957 &  0.74030819 &  0.23697320\\\\\n",
       "\t c           &  0.64992347 &  1.1627677  & -0.1023372  & -0.8446753  &  1.22273461 & -0.60704302 & -0.44067747 &  0.02552787 & -0.13243776\\\\\n",
       "\t d           & -0.67989112 & -0.5930767  &  0.3524948  &  0.1865719  & -0.69217505 & -0.88075605 & -0.93263529 &  0.73666135 & -0.49398892\\\\\n",
       "\t e           & -0.56439079 &  0.1928362  &  0.4564564  &  0.2958914  &  0.04211361 &  0.55155051 &  0.41816415 &  0.13857986 &  0.03654811\\\\\n",
       "\t f           & -0.05868665 &  0.2695106  & -1.2621589  & -0.2179102  &  0.58923066 &  0.87400696 &  1.02268859 & -0.81324496 &  1.35699580\\\\\n",
       "\t g           &  0.91838369 & -0.1675336  & -1.2849005  & -0.5167168  & -0.53379906 &  0.89650392 &  1.25616009 & -1.27639344 &  1.36092571\\\\\n",
       "\t h           & -0.01498383 & -0.2978802  &  0.5019396  &  0.7149495  & -0.14145855 & -0.73827529 & -0.78254646 &  0.86430070 & -0.60402622\\\\\n",
       "\t i           &  0.33463879 & -0.3208825  &  0.3557436  &  0.4124989  & -0.14865746 & -0.25459062 & -0.80339213 &  0.59078782 & -0.20317603\\\\\n",
       "\t j           & -0.62994504 & -0.7885965  & -0.1543180  &  0.2849595  & -0.60218870 & -0.09711188 & -0.07379367 & -0.48138267 & -0.96164748\\\\\n",
       "\\end{tabular}\n"
      ],
      "text/markdown": [
       "\n",
       "brand | perform | leader | latest | fun | serious | bargain | value | trendy | rebuy | \n",
       "|---|---|---|---|---|---|---|---|---|---|\n",
       "| a           | -0.88591874 | -0.5279035  |  0.4109732  |  0.6566458  | -0.91894067 |  0.21409609 |  0.18469264 | -0.52514473 | -0.59616642 | \n",
       "| b           |  0.93087022 |  1.0707584  |  0.7261069  | -0.9722147  |  1.18314061 |  0.04161938 |  0.15133957 |  0.74030819 |  0.23697320 | \n",
       "| c           |  0.64992347 |  1.1627677  | -0.1023372  | -0.8446753  |  1.22273461 | -0.60704302 | -0.44067747 |  0.02552787 | -0.13243776 | \n",
       "| d           | -0.67989112 | -0.5930767  |  0.3524948  |  0.1865719  | -0.69217505 | -0.88075605 | -0.93263529 |  0.73666135 | -0.49398892 | \n",
       "| e           | -0.56439079 |  0.1928362  |  0.4564564  |  0.2958914  |  0.04211361 |  0.55155051 |  0.41816415 |  0.13857986 |  0.03654811 | \n",
       "| f           | -0.05868665 |  0.2695106  | -1.2621589  | -0.2179102  |  0.58923066 |  0.87400696 |  1.02268859 | -0.81324496 |  1.35699580 | \n",
       "| g           |  0.91838369 | -0.1675336  | -1.2849005  | -0.5167168  | -0.53379906 |  0.89650392 |  1.25616009 | -1.27639344 |  1.36092571 | \n",
       "| h           | -0.01498383 | -0.2978802  |  0.5019396  |  0.7149495  | -0.14145855 | -0.73827529 | -0.78254646 |  0.86430070 | -0.60402622 | \n",
       "| i           |  0.33463879 | -0.3208825  |  0.3557436  |  0.4124989  | -0.14865746 | -0.25459062 | -0.80339213 |  0.59078782 | -0.20317603 | \n",
       "| j           | -0.62994504 | -0.7885965  | -0.1543180  |  0.2849595  | -0.60218870 | -0.09711188 | -0.07379367 | -0.48138267 | -0.96164748 | \n",
       "\n",
       "\n"
      ],
      "text/plain": [
       "   brand perform     leader     latest     fun        serious     bargain    \n",
       "1  a     -0.88591874 -0.5279035  0.4109732  0.6566458 -0.91894067  0.21409609\n",
       "2  b      0.93087022  1.0707584  0.7261069 -0.9722147  1.18314061  0.04161938\n",
       "3  c      0.64992347  1.1627677 -0.1023372 -0.8446753  1.22273461 -0.60704302\n",
       "4  d     -0.67989112 -0.5930767  0.3524948  0.1865719 -0.69217505 -0.88075605\n",
       "5  e     -0.56439079  0.1928362  0.4564564  0.2958914  0.04211361  0.55155051\n",
       "6  f     -0.05868665  0.2695106 -1.2621589 -0.2179102  0.58923066  0.87400696\n",
       "7  g      0.91838369 -0.1675336 -1.2849005 -0.5167168 -0.53379906  0.89650392\n",
       "8  h     -0.01498383 -0.2978802  0.5019396  0.7149495 -0.14145855 -0.73827529\n",
       "9  i      0.33463879 -0.3208825  0.3557436  0.4124989 -0.14865746 -0.25459062\n",
       "10 j     -0.62994504 -0.7885965 -0.1543180  0.2849595 -0.60218870 -0.09711188\n",
       "   value       trendy      rebuy      \n",
       "1   0.18469264 -0.52514473 -0.59616642\n",
       "2   0.15133957  0.74030819  0.23697320\n",
       "3  -0.44067747  0.02552787 -0.13243776\n",
       "4  -0.93263529  0.73666135 -0.49398892\n",
       "5   0.41816415  0.13857986  0.03654811\n",
       "6   1.02268859 -0.81324496  1.35699580\n",
       "7   1.25616009 -1.27639344  1.36092571\n",
       "8  -0.78254646  0.86430070 -0.60402622\n",
       "9  -0.80339213  0.59078782 -0.20317603\n",
       "10 -0.07379367 -0.48138267 -0.96164748"
      ]
     },
     "metadata": {},
     "output_type": "display_data"
    }
   ],
   "source": [
    "(brand.mean = aggregate(. ~ brand, data=brand.sc, mean))"
   ]
  },
  {
   "cell_type": "code",
   "execution_count": 22,
   "metadata": {},
   "outputs": [],
   "source": [
    "rownames(brand.mean) = brand.mean[ ,1]\n",
    "brand.mean = brand.mean[ ,-1]"
   ]
  },
  {
   "cell_type": "code",
   "execution_count": 23,
   "metadata": {},
   "outputs": [
    {
     "data": {
      "text/html": [
       "<table>\n",
       "<thead><tr><th></th><th scope=col>perform</th><th scope=col>leader</th><th scope=col>latest</th><th scope=col>fun</th><th scope=col>serious</th><th scope=col>bargain</th><th scope=col>value</th><th scope=col>trendy</th><th scope=col>rebuy</th></tr></thead>\n",
       "<tbody>\n",
       "\t<tr><th scope=row>a</th><td>-0.88591874</td><td>-0.5279035 </td><td> 0.4109732 </td><td> 0.6566458 </td><td>-0.91894067</td><td> 0.21409609</td><td> 0.18469264</td><td>-0.52514473</td><td>-0.59616642</td></tr>\n",
       "\t<tr><th scope=row>b</th><td> 0.93087022</td><td> 1.0707584 </td><td> 0.7261069 </td><td>-0.9722147 </td><td> 1.18314061</td><td> 0.04161938</td><td> 0.15133957</td><td> 0.74030819</td><td> 0.23697320</td></tr>\n",
       "\t<tr><th scope=row>c</th><td> 0.64992347</td><td> 1.1627677 </td><td>-0.1023372 </td><td>-0.8446753 </td><td> 1.22273461</td><td>-0.60704302</td><td>-0.44067747</td><td> 0.02552787</td><td>-0.13243776</td></tr>\n",
       "\t<tr><th scope=row>d</th><td>-0.67989112</td><td>-0.5930767 </td><td> 0.3524948 </td><td> 0.1865719 </td><td>-0.69217505</td><td>-0.88075605</td><td>-0.93263529</td><td> 0.73666135</td><td>-0.49398892</td></tr>\n",
       "\t<tr><th scope=row>e</th><td>-0.56439079</td><td> 0.1928362 </td><td> 0.4564564 </td><td> 0.2958914 </td><td> 0.04211361</td><td> 0.55155051</td><td> 0.41816415</td><td> 0.13857986</td><td> 0.03654811</td></tr>\n",
       "\t<tr><th scope=row>f</th><td>-0.05868665</td><td> 0.2695106 </td><td>-1.2621589 </td><td>-0.2179102 </td><td> 0.58923066</td><td> 0.87400696</td><td> 1.02268859</td><td>-0.81324496</td><td> 1.35699580</td></tr>\n",
       "\t<tr><th scope=row>g</th><td> 0.91838369</td><td>-0.1675336 </td><td>-1.2849005 </td><td>-0.5167168 </td><td>-0.53379906</td><td> 0.89650392</td><td> 1.25616009</td><td>-1.27639344</td><td> 1.36092571</td></tr>\n",
       "\t<tr><th scope=row>h</th><td>-0.01498383</td><td>-0.2978802 </td><td> 0.5019396 </td><td> 0.7149495 </td><td>-0.14145855</td><td>-0.73827529</td><td>-0.78254646</td><td> 0.86430070</td><td>-0.60402622</td></tr>\n",
       "\t<tr><th scope=row>i</th><td> 0.33463879</td><td>-0.3208825 </td><td> 0.3557436 </td><td> 0.4124989 </td><td>-0.14865746</td><td>-0.25459062</td><td>-0.80339213</td><td> 0.59078782</td><td>-0.20317603</td></tr>\n",
       "\t<tr><th scope=row>j</th><td>-0.62994504</td><td>-0.7885965 </td><td>-0.1543180 </td><td> 0.2849595 </td><td>-0.60218870</td><td>-0.09711188</td><td>-0.07379367</td><td>-0.48138267</td><td>-0.96164748</td></tr>\n",
       "</tbody>\n",
       "</table>\n"
      ],
      "text/latex": [
       "\\begin{tabular}{r|lllllllll}\n",
       "  & perform & leader & latest & fun & serious & bargain & value & trendy & rebuy\\\\\n",
       "\\hline\n",
       "\ta & -0.88591874 & -0.5279035  &  0.4109732  &  0.6566458  & -0.91894067 &  0.21409609 &  0.18469264 & -0.52514473 & -0.59616642\\\\\n",
       "\tb &  0.93087022 &  1.0707584  &  0.7261069  & -0.9722147  &  1.18314061 &  0.04161938 &  0.15133957 &  0.74030819 &  0.23697320\\\\\n",
       "\tc &  0.64992347 &  1.1627677  & -0.1023372  & -0.8446753  &  1.22273461 & -0.60704302 & -0.44067747 &  0.02552787 & -0.13243776\\\\\n",
       "\td & -0.67989112 & -0.5930767  &  0.3524948  &  0.1865719  & -0.69217505 & -0.88075605 & -0.93263529 &  0.73666135 & -0.49398892\\\\\n",
       "\te & -0.56439079 &  0.1928362  &  0.4564564  &  0.2958914  &  0.04211361 &  0.55155051 &  0.41816415 &  0.13857986 &  0.03654811\\\\\n",
       "\tf & -0.05868665 &  0.2695106  & -1.2621589  & -0.2179102  &  0.58923066 &  0.87400696 &  1.02268859 & -0.81324496 &  1.35699580\\\\\n",
       "\tg &  0.91838369 & -0.1675336  & -1.2849005  & -0.5167168  & -0.53379906 &  0.89650392 &  1.25616009 & -1.27639344 &  1.36092571\\\\\n",
       "\th & -0.01498383 & -0.2978802  &  0.5019396  &  0.7149495  & -0.14145855 & -0.73827529 & -0.78254646 &  0.86430070 & -0.60402622\\\\\n",
       "\ti &  0.33463879 & -0.3208825  &  0.3557436  &  0.4124989  & -0.14865746 & -0.25459062 & -0.80339213 &  0.59078782 & -0.20317603\\\\\n",
       "\tj & -0.62994504 & -0.7885965  & -0.1543180  &  0.2849595  & -0.60218870 & -0.09711188 & -0.07379367 & -0.48138267 & -0.96164748\\\\\n",
       "\\end{tabular}\n"
      ],
      "text/markdown": [
       "\n",
       "| <!--/--> | perform | leader | latest | fun | serious | bargain | value | trendy | rebuy | \n",
       "|---|---|---|---|---|---|---|---|---|---|\n",
       "| a | -0.88591874 | -0.5279035  |  0.4109732  |  0.6566458  | -0.91894067 |  0.21409609 |  0.18469264 | -0.52514473 | -0.59616642 | \n",
       "| b |  0.93087022 |  1.0707584  |  0.7261069  | -0.9722147  |  1.18314061 |  0.04161938 |  0.15133957 |  0.74030819 |  0.23697320 | \n",
       "| c |  0.64992347 |  1.1627677  | -0.1023372  | -0.8446753  |  1.22273461 | -0.60704302 | -0.44067747 |  0.02552787 | -0.13243776 | \n",
       "| d | -0.67989112 | -0.5930767  |  0.3524948  |  0.1865719  | -0.69217505 | -0.88075605 | -0.93263529 |  0.73666135 | -0.49398892 | \n",
       "| e | -0.56439079 |  0.1928362  |  0.4564564  |  0.2958914  |  0.04211361 |  0.55155051 |  0.41816415 |  0.13857986 |  0.03654811 | \n",
       "| f | -0.05868665 |  0.2695106  | -1.2621589  | -0.2179102  |  0.58923066 |  0.87400696 |  1.02268859 | -0.81324496 |  1.35699580 | \n",
       "| g |  0.91838369 | -0.1675336  | -1.2849005  | -0.5167168  | -0.53379906 |  0.89650392 |  1.25616009 | -1.27639344 |  1.36092571 | \n",
       "| h | -0.01498383 | -0.2978802  |  0.5019396  |  0.7149495  | -0.14145855 | -0.73827529 | -0.78254646 |  0.86430070 | -0.60402622 | \n",
       "| i |  0.33463879 | -0.3208825  |  0.3557436  |  0.4124989  | -0.14865746 | -0.25459062 | -0.80339213 |  0.59078782 | -0.20317603 | \n",
       "| j | -0.62994504 | -0.7885965  | -0.1543180  |  0.2849595  | -0.60218870 | -0.09711188 | -0.07379367 | -0.48138267 | -0.96164748 | \n",
       "\n",
       "\n"
      ],
      "text/plain": [
       "  perform     leader     latest     fun        serious     bargain    \n",
       "a -0.88591874 -0.5279035  0.4109732  0.6566458 -0.91894067  0.21409609\n",
       "b  0.93087022  1.0707584  0.7261069 -0.9722147  1.18314061  0.04161938\n",
       "c  0.64992347  1.1627677 -0.1023372 -0.8446753  1.22273461 -0.60704302\n",
       "d -0.67989112 -0.5930767  0.3524948  0.1865719 -0.69217505 -0.88075605\n",
       "e -0.56439079  0.1928362  0.4564564  0.2958914  0.04211361  0.55155051\n",
       "f -0.05868665  0.2695106 -1.2621589 -0.2179102  0.58923066  0.87400696\n",
       "g  0.91838369 -0.1675336 -1.2849005 -0.5167168 -0.53379906  0.89650392\n",
       "h -0.01498383 -0.2978802  0.5019396  0.7149495 -0.14145855 -0.73827529\n",
       "i  0.33463879 -0.3208825  0.3557436  0.4124989 -0.14865746 -0.25459062\n",
       "j -0.62994504 -0.7885965 -0.1543180  0.2849595 -0.60218870 -0.09711188\n",
       "  value       trendy      rebuy      \n",
       "a  0.18469264 -0.52514473 -0.59616642\n",
       "b  0.15133957  0.74030819  0.23697320\n",
       "c -0.44067747  0.02552787 -0.13243776\n",
       "d -0.93263529  0.73666135 -0.49398892\n",
       "e  0.41816415  0.13857986  0.03654811\n",
       "f  1.02268859 -0.81324496  1.35699580\n",
       "g  1.25616009 -1.27639344  1.36092571\n",
       "h -0.78254646  0.86430070 -0.60402622\n",
       "i -0.80339213  0.59078782 -0.20317603\n",
       "j -0.07379367 -0.48138267 -0.96164748"
      ]
     },
     "metadata": {},
     "output_type": "display_data"
    }
   ],
   "source": [
    "brand.mean"
   ]
  },
  {
   "cell_type": "markdown",
   "metadata": {},
   "source": [
    "A *heatmap* is a useful way to examine such results because it colors data points by the intensities of their values. We use *heatmap.2()* from the gplots  package with colors from the RColorBrewer package"
   ]
  },
  {
   "cell_type": "code",
   "execution_count": 24,
   "metadata": {},
   "outputs": [
    {
     "name": "stderr",
     "output_type": "stream",
     "text": [
      "Installing package into 'C:/Users/cl44343/Documents/R/win-library/3.4'\n",
      "(as 'lib' is unspecified)\n"
     ]
    },
    {
     "name": "stdout",
     "output_type": "stream",
     "text": [
      "package 'gplots' successfully unpacked and MD5 sums checked\n",
      "\n",
      "The downloaded binary packages are in\n",
      "\tC:\\Temp\\RtmpYrBolK\\downloaded_packages\n"
     ]
    },
    {
     "name": "stderr",
     "output_type": "stream",
     "text": [
      "\n",
      "Attaching package: 'gplots'\n",
      "\n",
      "The following object is masked from 'package:stats':\n",
      "\n",
      "    lowess\n",
      "\n"
     ]
    }
   ],
   "source": [
    "install.packages('gplots')\n",
    "library(gplots)"
   ]
  },
  {
   "cell_type": "code",
   "execution_count": 25,
   "metadata": {},
   "outputs": [
    {
     "name": "stderr",
     "output_type": "stream",
     "text": [
      "Installing package into 'C:/Users/cl44343/Documents/R/win-library/3.4'\n",
      "(as 'lib' is unspecified)\n"
     ]
    },
    {
     "name": "stdout",
     "output_type": "stream",
     "text": [
      "package 'RColorBrewer' successfully unpacked and MD5 sums checked\n",
      "\n",
      "The downloaded binary packages are in\n",
      "\tC:\\Temp\\RtmpYrBolK\\downloaded_packages\n"
     ]
    }
   ],
   "source": [
    "install.packages('RColorBrewer')\n",
    "library(RColorBrewer)"
   ]
  },
  {
   "cell_type": "code",
   "execution_count": 27,
   "metadata": {},
   "outputs": [
    {
     "data": {
      "image/png": "[encoded data removed]",
      "text/plain": [
       "Plot with title \"\n",
       "\n",
       "\n",
       "\n",
       "Brand attributions\""
      ]
     },
     "metadata": {},
     "output_type": "display_data"
    }
   ],
   "source": [
    "heatmap.2(as.matrix(brand.mean), col=brewer.pal(9, 'GnBu'), trace='none', key=F, dend='none', main='\\n\\n\\n\\nBrand attributions')"
   ]
  },
  {
   "cell_type": "markdown",
   "metadata": {},
   "source": [
    "Fig. 8.2. A heatmap for the mean of each adjective by brand. Brands f and g are similar—with high ratings for rebuy and value but low ratings for latest and fun. Other groups of similar brands are b/c, i/h/d, and a/j."
   ]
  },
  {
   "cell_type": "markdown",
   "metadata": {},
   "source": [
    "**8.2 Principal Component Analysis and Perceptual Maps**"
   ]
  },
  {
   "cell_type": "markdown",
   "metadata": {},
   "source": [
    "**8.2.1 PCA Example**"
   ]
  },
  {
   "cell_type": "markdown",
   "metadata": {},
   "source": [
    "We explore PCA first with a simple data set to see and develop intuition about what is happening. We create highly correlated data by copying a random vector xvar to a new vector yvar while replacing half of the data points. Then we repeat that procedure to create zvar from yvar"
   ]
  },
  {
   "cell_type": "code",
   "execution_count": 30,
   "metadata": {},
   "outputs": [],
   "source": [
    "set.seed(98286)\n",
    "xvar = sample(1:10, 100, replace=T)\n",
    "yvar = xvar\n",
    "yvar[sample(1:length(yvar), 50)] = sample(1:10, 50, replace=T)\n",
    "zvar=yvar\n",
    "zvar[sample(1:length(zvar),50)]  = sample(1:10, 50, replace=T)\n",
    "my.vars = cbind(xvar, yvar, zvar)"
   ]
  },
  {
   "cell_type": "code",
   "execution_count": 33,
   "metadata": {},
   "outputs": [
    {
     "data": {
      "text/html": [
       "<table>\n",
       "<thead><tr><th></th><th scope=col>xvar</th><th scope=col>yvar</th><th scope=col>zvar</th></tr></thead>\n",
       "<tbody>\n",
       "\t<tr><th scope=row>xvar</th><td>1.0000000</td><td>0.5969717</td><td>0.2496469</td></tr>\n",
       "\t<tr><th scope=row>yvar</th><td>0.5969717</td><td>1.0000000</td><td>0.5231468</td></tr>\n",
       "\t<tr><th scope=row>zvar</th><td>0.2496469</td><td>0.5231468</td><td>1.0000000</td></tr>\n",
       "</tbody>\n",
       "</table>\n"
      ],
      "text/latex": [
       "\\begin{tabular}{r|lll}\n",
       "  & xvar & yvar & zvar\\\\\n",
       "\\hline\n",
       "\txvar & 1.0000000 & 0.5969717 & 0.2496469\\\\\n",
       "\tyvar & 0.5969717 & 1.0000000 & 0.5231468\\\\\n",
       "\tzvar & 0.2496469 & 0.5231468 & 1.0000000\\\\\n",
       "\\end{tabular}\n"
      ],
      "text/markdown": [
       "\n",
       "| <!--/--> | xvar | yvar | zvar | \n",
       "|---|---|---|\n",
       "| xvar | 1.0000000 | 0.5969717 | 0.2496469 | \n",
       "| yvar | 0.5969717 | 1.0000000 | 0.5231468 | \n",
       "| zvar | 0.2496469 | 0.5231468 | 1.0000000 | \n",
       "\n",
       "\n"
      ],
      "text/plain": [
       "     xvar      yvar      zvar     \n",
       "xvar 1.0000000 0.5969717 0.2496469\n",
       "yvar 0.5969717 1.0000000 0.5231468\n",
       "zvar 0.2496469 0.5231468 1.0000000"
      ]
     },
     "metadata": {},
     "output_type": "display_data"
    },
    {
     "data": {
      "image/png": "[encoded data removed]",
      "text/plain": [
       "plot without title"
      ]
     },
     "metadata": {},
     "output_type": "display_data"
    }
   ],
   "source": [
    "plot(yvar ~ xvar, data=jitter(my.vars))\n",
    "cor(my.vars)"
   ]
  },
  {
   "cell_type": "code",
   "execution_count": 35,
   "metadata": {},
   "outputs": [
    {
     "data": {
      "text/plain": [
       "Importance of components:\n",
       "                          PC1    PC2    PC3\n",
       "Standard deviation     3.9992 2.4381 1.6269\n",
       "Proportion of Variance 0.6505 0.2418 0.1077\n",
       "Cumulative Proportion  0.6505 0.8923 1.0000"
      ]
     },
     "metadata": {},
     "output_type": "display_data"
    }
   ],
   "source": [
    "my.pca = prcomp(my.vars)\n",
    "summary(my.pca)"
   ]
  },
  {
   "cell_type": "code",
   "execution_count": 36,
   "metadata": {},
   "outputs": [
    {
     "data": {
      "text/plain": [
       "Standard deviations (1, .., p=3):\n",
       "[1] 3.999154 2.438079 1.626894\n",
       "\n",
       "Rotation (n x k) = (3 x 3):\n",
       "            PC1         PC2        PC3\n",
       "xvar -0.6156755  0.63704774  0.4638037\n",
       "yvar -0.6532994 -0.08354009 -0.7524766\n",
       "zvar -0.4406173 -0.76628404  0.4676165"
      ]
     },
     "metadata": {},
     "output_type": "display_data"
    }
   ],
   "source": [
    "my.pca"
   ]
  },
  {
   "cell_type": "code",
   "execution_count": 37,
   "metadata": {},
   "outputs": [
    {
     "data": {
      "text/html": [
       "<table>\n",
       "<thead><tr><th></th><th scope=col>PC1</th><th scope=col>PC2</th><th scope=col>PC3</th></tr></thead>\n",
       "<tbody>\n",
       "\t<tr><th scope=row>PC1</th><td> 1.000000e+00</td><td>-1.372816e-17</td><td>2.445665e-16 </td></tr>\n",
       "\t<tr><th scope=row>PC2</th><td>-1.372816e-17</td><td> 1.000000e+00</td><td>8.017866e-17 </td></tr>\n",
       "\t<tr><th scope=row>PC3</th><td> 2.445665e-16</td><td> 8.017866e-17</td><td>1.000000e+00 </td></tr>\n",
       "</tbody>\n",
       "</table>\n"
      ],
      "text/latex": [
       "\\begin{tabular}{r|lll}\n",
       "  & PC1 & PC2 & PC3\\\\\n",
       "\\hline\n",
       "\tPC1 &  1.000000e+00 & -1.372816e-17 & 2.445665e-16 \\\\\n",
       "\tPC2 & -1.372816e-17 &  1.000000e+00 & 8.017866e-17 \\\\\n",
       "\tPC3 &  2.445665e-16 &  8.017866e-17 & 1.000000e+00 \\\\\n",
       "\\end{tabular}\n"
      ],
      "text/markdown": [
       "\n",
       "| <!--/--> | PC1 | PC2 | PC3 | \n",
       "|---|---|---|\n",
       "| PC1 |  1.000000e+00 | -1.372816e-17 | 2.445665e-16  | \n",
       "| PC2 | -1.372816e-17 |  1.000000e+00 | 8.017866e-17  | \n",
       "| PC3 |  2.445665e-16 |  8.017866e-17 | 1.000000e+00  | \n",
       "\n",
       "\n"
      ],
      "text/plain": [
       "    PC1           PC2           PC3         \n",
       "PC1  1.000000e+00 -1.372816e-17 2.445665e-16\n",
       "PC2 -1.372816e-17  1.000000e+00 8.017866e-17\n",
       "PC3  2.445665e-16  8.017866e-17 1.000000e+00"
      ]
     },
     "metadata": {},
     "output_type": "display_data"
    }
   ],
   "source": [
    "cor(my.pca$x)  # components have zero correlation"
   ]
  },
  {
   "cell_type": "markdown",
   "metadata": {},
   "source": [
    "**8.2.2 Visualizing PCA**"
   ]
  },
  {
   "cell_type": "code",
   "execution_count": 38,
   "metadata": {},
   "outputs": [
    {
     "data": {
      "image/png": "[encoded data removed]",
      "text/plain": [
       "plot without title"
      ]
     },
     "metadata": {},
     "output_type": "display_data"
    }
   ],
   "source": [
    "biplot(my.pca)"
   ]
  },
  {
   "cell_type": "markdown",
   "metadata": {},
   "source": [
    "Fig. 8.4. A biplot() of a PCA solution for the simple, constructed example,\n",
    "showing data points plotted on the first two components."
   ]
  },
  {
   "cell_type": "code",
   "execution_count": null,
   "metadata": {},
   "outputs": [],
   "source": []
  },
  {
   "cell_type": "code",
   "execution_count": null,
   "metadata": {},
   "outputs": [],
   "source": []
  },
  {
   "cell_type": "code",
   "execution_count": null,
   "metadata": {},
   "outputs": [],
   "source": []
  },
  {
   "cell_type": "code",
   "execution_count": null,
   "metadata": {},
   "outputs": [],
   "source": []
  },
  {
   "cell_type": "code",
   "execution_count": null,
   "metadata": {},
   "outputs": [],
   "source": []
  },
  {
   "cell_type": "code",
   "execution_count": null,
   "metadata": {},
   "outputs": [],
   "source": []
  }
 ],
 "metadata": {
  "kernelspec": {
   "display_name": "R",
   "language": "R",
   "name": "ir"
  },
  "language_info": {
   "codemirror_mode": "r",
   "file_extension": ".r",
   "mimetype": "text/x-r-source",
   "name": "R",
   "pygments_lexer": "r",
   "version": "3.4.3"
  }
 },
 "nbformat": 4,
 "nbformat_minor": 2
}
