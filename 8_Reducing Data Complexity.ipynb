{
 "cells": [
  {
   "cell_type": "markdown",
   "metadata": {},
   "source": [
    "**Part III. Advanced Marketing Applications**\n",
    "\n",
    "**8.Reducing Data Complexity**\n",
    "\n",
    "**8.1 Consumer Brand Rating Data**"
   ]
  },
  {
   "cell_type": "code",
   "execution_count": 1,
   "metadata": {},
   "outputs": [
    {
     "data": {
      "text/html": [
       "<table>\n",
       "<thead><tr><th scope=col>perform</th><th scope=col>leader</th><th scope=col>latest</th><th scope=col>fun</th><th scope=col>serious</th><th scope=col>bargain</th><th scope=col>value</th><th scope=col>trendy</th><th scope=col>rebuy</th><th scope=col>brand</th></tr></thead>\n",
       "<tbody>\n",
       "\t<tr><td>2 </td><td>4 </td><td> 8</td><td>8 </td><td>2 </td><td>9 </td><td>7 </td><td>4 </td><td>6 </td><td>a </td></tr>\n",
       "\t<tr><td>1 </td><td>1 </td><td> 4</td><td>7 </td><td>1 </td><td>1 </td><td>1 </td><td>2 </td><td>2 </td><td>a </td></tr>\n",
       "\t<tr><td>2 </td><td>3 </td><td> 5</td><td>9 </td><td>2 </td><td>9 </td><td>5 </td><td>1 </td><td>6 </td><td>a </td></tr>\n",
       "\t<tr><td>1 </td><td>6 </td><td>10</td><td>8 </td><td>3 </td><td>4 </td><td>5 </td><td>2 </td><td>1 </td><td>a </td></tr>\n",
       "\t<tr><td>1 </td><td>1 </td><td> 5</td><td>8 </td><td>1 </td><td>9 </td><td>9 </td><td>1 </td><td>1 </td><td>a </td></tr>\n",
       "\t<tr><td>2 </td><td>8 </td><td> 9</td><td>5 </td><td>3 </td><td>8 </td><td>7 </td><td>1 </td><td>2 </td><td>a </td></tr>\n",
       "</tbody>\n",
       "</table>\n"
      ],
      "text/latex": [
       "\\begin{tabular}{r|llllllllll}\n",
       " perform & leader & latest & fun & serious & bargain & value & trendy & rebuy & brand\\\\\n",
       "\\hline\n",
       "\t 2  & 4  &  8 & 8  & 2  & 9  & 7  & 4  & 6  & a \\\\\n",
       "\t 1  & 1  &  4 & 7  & 1  & 1  & 1  & 2  & 2  & a \\\\\n",
       "\t 2  & 3  &  5 & 9  & 2  & 9  & 5  & 1  & 6  & a \\\\\n",
       "\t 1  & 6  & 10 & 8  & 3  & 4  & 5  & 2  & 1  & a \\\\\n",
       "\t 1  & 1  &  5 & 8  & 1  & 9  & 9  & 1  & 1  & a \\\\\n",
       "\t 2  & 8  &  9 & 5  & 3  & 8  & 7  & 1  & 2  & a \\\\\n",
       "\\end{tabular}\n"
      ],
      "text/markdown": [
       "\n",
       "perform | leader | latest | fun | serious | bargain | value | trendy | rebuy | brand | \n",
       "|---|---|---|---|---|---|\n",
       "| 2  | 4  |  8 | 8  | 2  | 9  | 7  | 4  | 6  | a  | \n",
       "| 1  | 1  |  4 | 7  | 1  | 1  | 1  | 2  | 2  | a  | \n",
       "| 2  | 3  |  5 | 9  | 2  | 9  | 5  | 1  | 6  | a  | \n",
       "| 1  | 6  | 10 | 8  | 3  | 4  | 5  | 2  | 1  | a  | \n",
       "| 1  | 1  |  5 | 8  | 1  | 9  | 9  | 1  | 1  | a  | \n",
       "| 2  | 8  |  9 | 5  | 3  | 8  | 7  | 1  | 2  | a  | \n",
       "\n",
       "\n"
      ],
      "text/plain": [
       "  perform leader latest fun serious bargain value trendy rebuy brand\n",
       "1 2       4       8     8   2       9       7     4      6     a    \n",
       "2 1       1       4     7   1       1       1     2      2     a    \n",
       "3 2       3       5     9   2       9       5     1      6     a    \n",
       "4 1       6      10     8   3       4       5     2      1     a    \n",
       "5 1       1       5     8   1       9       9     1      1     a    \n",
       "6 2       8       9     5   3       8       7     1      2     a    "
      ]
     },
     "metadata": {},
     "output_type": "display_data"
    }
   ],
   "source": [
    "brand.ratings = read.csv(\"http://goo.gl/IQl8nc\")\n",
    "head(brand.ratings)"
   ]
  },
  {
   "cell_type": "code",
   "execution_count": 2,
   "metadata": {},
   "outputs": [
    {
     "data": {
      "text/html": [
       "<table>\n",
       "<thead><tr><th></th><th scope=col>perform</th><th scope=col>leader</th><th scope=col>latest</th><th scope=col>fun</th><th scope=col>serious</th><th scope=col>bargain</th><th scope=col>value</th><th scope=col>trendy</th><th scope=col>rebuy</th><th scope=col>brand</th></tr></thead>\n",
       "<tbody>\n",
       "\t<tr><th scope=row>995</th><td>4 </td><td>2 </td><td> 8</td><td> 7</td><td>1 </td><td>3 </td><td>3 </td><td>5 </td><td>2 </td><td>j </td></tr>\n",
       "\t<tr><th scope=row>996</th><td>2 </td><td>2 </td><td> 3</td><td> 6</td><td>4 </td><td>8 </td><td>5 </td><td>1 </td><td>2 </td><td>j </td></tr>\n",
       "\t<tr><th scope=row>997</th><td>3 </td><td>2 </td><td> 6</td><td> 7</td><td>1 </td><td>3 </td><td>3 </td><td>2 </td><td>1 </td><td>j </td></tr>\n",
       "\t<tr><th scope=row>998</th><td>1 </td><td>1 </td><td>10</td><td>10</td><td>1 </td><td>6 </td><td>5 </td><td>5 </td><td>2 </td><td>j </td></tr>\n",
       "\t<tr><th scope=row>999</th><td>1 </td><td>1 </td><td> 7</td><td> 5</td><td>1 </td><td>1 </td><td>2 </td><td>5 </td><td>1 </td><td>j </td></tr>\n",
       "\t<tr><th scope=row>1000</th><td>7 </td><td>4 </td><td> 7</td><td> 8</td><td>4 </td><td>1 </td><td>2 </td><td>5 </td><td>1 </td><td>j </td></tr>\n",
       "</tbody>\n",
       "</table>\n"
      ],
      "text/latex": [
       "\\begin{tabular}{r|llllllllll}\n",
       "  & perform & leader & latest & fun & serious & bargain & value & trendy & rebuy & brand\\\\\n",
       "\\hline\n",
       "\t995 & 4  & 2  &  8 &  7 & 1  & 3  & 3  & 5  & 2  & j \\\\\n",
       "\t996 & 2  & 2  &  3 &  6 & 4  & 8  & 5  & 1  & 2  & j \\\\\n",
       "\t997 & 3  & 2  &  6 &  7 & 1  & 3  & 3  & 2  & 1  & j \\\\\n",
       "\t998 & 1  & 1  & 10 & 10 & 1  & 6  & 5  & 5  & 2  & j \\\\\n",
       "\t999 & 1  & 1  &  7 &  5 & 1  & 1  & 2  & 5  & 1  & j \\\\\n",
       "\t1000 & 7  & 4  &  7 &  8 & 4  & 1  & 2  & 5  & 1  & j \\\\\n",
       "\\end{tabular}\n"
      ],
      "text/markdown": [
       "\n",
       "| <!--/--> | perform | leader | latest | fun | serious | bargain | value | trendy | rebuy | brand | \n",
       "|---|---|---|---|---|---|\n",
       "| 995 | 4  | 2  |  8 |  7 | 1  | 3  | 3  | 5  | 2  | j  | \n",
       "| 996 | 2  | 2  |  3 |  6 | 4  | 8  | 5  | 1  | 2  | j  | \n",
       "| 997 | 3  | 2  |  6 |  7 | 1  | 3  | 3  | 2  | 1  | j  | \n",
       "| 998 | 1  | 1  | 10 | 10 | 1  | 6  | 5  | 5  | 2  | j  | \n",
       "| 999 | 1  | 1  |  7 |  5 | 1  | 1  | 2  | 5  | 1  | j  | \n",
       "| 1000 | 7  | 4  |  7 |  8 | 4  | 1  | 2  | 5  | 1  | j  | \n",
       "\n",
       "\n"
      ],
      "text/plain": [
       "     perform leader latest fun serious bargain value trendy rebuy brand\n",
       "995  4       2       8      7  1       3       3     5      2     j    \n",
       "996  2       2       3      6  4       8       5     1      2     j    \n",
       "997  3       2       6      7  1       3       3     2      1     j    \n",
       "998  1       1      10     10  1       6       5     5      2     j    \n",
       "999  1       1       7      5  1       1       2     5      1     j    \n",
       "1000 7       4       7      8  4       1       2     5      1     j    "
      ]
     },
     "metadata": {},
     "output_type": "display_data"
    }
   ],
   "source": [
    "tail(brand.ratings)"
   ]
  },
  {
   "cell_type": "code",
   "execution_count": 3,
   "metadata": {},
   "outputs": [
    {
     "data": {
      "text/plain": [
       "    perform           leader           latest            fun        \n",
       " Min.   : 1.000   Min.   : 1.000   Min.   : 1.000   Min.   : 1.000  \n",
       " 1st Qu.: 1.000   1st Qu.: 2.000   1st Qu.: 4.000   1st Qu.: 4.000  \n",
       " Median : 4.000   Median : 4.000   Median : 7.000   Median : 6.000  \n",
       " Mean   : 4.488   Mean   : 4.417   Mean   : 6.195   Mean   : 6.068  \n",
       " 3rd Qu.: 7.000   3rd Qu.: 6.000   3rd Qu.: 9.000   3rd Qu.: 8.000  \n",
       " Max.   :10.000   Max.   :10.000   Max.   :10.000   Max.   :10.000  \n",
       "                                                                    \n",
       "    serious          bargain           value            trendy     \n",
       " Min.   : 1.000   Min.   : 1.000   Min.   : 1.000   Min.   : 1.00  \n",
       " 1st Qu.: 2.000   1st Qu.: 2.000   1st Qu.: 2.000   1st Qu.: 3.00  \n",
       " Median : 4.000   Median : 4.000   Median : 4.000   Median : 5.00  \n",
       " Mean   : 4.323   Mean   : 4.259   Mean   : 4.337   Mean   : 5.22  \n",
       " 3rd Qu.: 6.000   3rd Qu.: 6.000   3rd Qu.: 6.000   3rd Qu.: 7.00  \n",
       " Max.   :10.000   Max.   :10.000   Max.   :10.000   Max.   :10.00  \n",
       "                                                                   \n",
       "     rebuy            brand    \n",
       " Min.   : 1.000   a      :100  \n",
       " 1st Qu.: 1.000   b      :100  \n",
       " Median : 3.000   c      :100  \n",
       " Mean   : 3.727   d      :100  \n",
       " 3rd Qu.: 5.000   e      :100  \n",
       " Max.   :10.000   f      :100  \n",
       "                  (Other):400  "
      ]
     },
     "metadata": {},
     "output_type": "display_data"
    }
   ],
   "source": [
    "summary(brand.ratings)"
   ]
  },
  {
   "cell_type": "code",
   "execution_count": 4,
   "metadata": {},
   "outputs": [
    {
     "name": "stdout",
     "output_type": "stream",
     "text": [
      "'data.frame':\t1000 obs. of  10 variables:\n",
      " $ perform: int  2 1 2 1 1 2 1 2 2 3 ...\n",
      " $ leader : int  4 1 3 6 1 8 1 1 1 1 ...\n",
      " $ latest : int  8 4 5 10 5 9 5 7 8 9 ...\n",
      " $ fun    : int  8 7 9 8 8 5 7 5 10 8 ...\n",
      " $ serious: int  2 1 2 3 1 3 1 2 1 1 ...\n",
      " $ bargain: int  9 1 9 4 9 8 5 8 7 3 ...\n",
      " $ value  : int  7 1 5 5 9 7 1 7 7 3 ...\n",
      " $ trendy : int  4 2 1 2 1 1 1 7 5 4 ...\n",
      " $ rebuy  : int  6 2 6 1 1 2 1 1 1 1 ...\n",
      " $ brand  : Factor w/ 10 levels \"a\",\"b\",\"c\",\"d\",..: 1 1 1 1 1 1 1 1 1 1 ...\n"
     ]
    }
   ],
   "source": [
    "str(brand.ratings)"
   ]
  },
  {
   "cell_type": "markdown",
   "metadata": {},
   "source": [
    "**8.1.1 Rescaling the Data**\n",
    "\n",
    "A common procedure is to center each variable by subtracting its mean from every observation, and then rescale those centered values as units of standard deviation. This is commonly called ***standardizing, normalizing,or Z scoring*** the data"
   ]
  },
  {
   "cell_type": "code",
   "execution_count": 6,
   "metadata": {},
   "outputs": [
    {
     "data": {
      "text/plain": [
       "   Min. 1st Qu.  Median    Mean 3rd Qu.    Max. \n",
       "-1.7295 -0.8647  0.0000  0.0000  0.8647  1.7295 "
      ]
     },
     "metadata": {},
     "output_type": "display_data"
    }
   ],
   "source": [
    "x = 1:1000\n",
    "x.sc = (x-mean(x)) / sd(x)\n",
    "summary(x.sc)"
   ]
  },
  {
   "cell_type": "code",
   "execution_count": 7,
   "metadata": {},
   "outputs": [
    {
     "data": {
      "text/plain": [
       "    perform            leader            latest             fun          \n",
       " Min.   :-1.0888   Min.   :-1.3100   Min.   :-1.6878   Min.   :-1.84677  \n",
       " 1st Qu.:-1.0888   1st Qu.:-0.9266   1st Qu.:-0.7131   1st Qu.:-0.75358  \n",
       " Median :-0.1523   Median :-0.1599   Median : 0.2615   Median :-0.02478  \n",
       " Mean   : 0.0000   Mean   : 0.0000   Mean   : 0.0000   Mean   : 0.00000  \n",
       " 3rd Qu.: 0.7842   3rd Qu.: 0.6069   3rd Qu.: 0.9113   3rd Qu.: 0.70402  \n",
       " Max.   : 1.7206   Max.   : 2.1404   Max.   : 1.2362   Max.   : 1.43281  \n",
       "                                                                         \n",
       "    serious           bargain             value             trendy        \n",
       " Min.   :-1.1961   Min.   :-1.22196   Min.   :-1.3912   Min.   :-1.53897  \n",
       " 1st Qu.:-0.8362   1st Qu.:-0.84701   1st Qu.:-0.9743   1st Qu.:-0.80960  \n",
       " Median :-0.1163   Median :-0.09711   Median :-0.1405   Median :-0.08023  \n",
       " Mean   : 0.0000   Mean   : 0.00000   Mean   : 0.0000   Mean   : 0.00000  \n",
       " 3rd Qu.: 0.6036   3rd Qu.: 0.65279   3rd Qu.: 0.6933   3rd Qu.: 0.64914  \n",
       " Max.   : 2.0434   Max.   : 2.15258   Max.   : 2.3610   Max.   : 1.74319  \n",
       "                                                                          \n",
       "     rebuy             brand    \n",
       " Min.   :-1.0717   a      :100  \n",
       " 1st Qu.:-1.0717   b      :100  \n",
       " Median :-0.2857   c      :100  \n",
       " Mean   : 0.0000   d      :100  \n",
       " 3rd Qu.: 0.5003   e      :100  \n",
       " Max.   : 2.4652   f      :100  \n",
       "                   (Other):400  "
      ]
     },
     "metadata": {},
     "output_type": "display_data"
    }
   ],
   "source": [
    "brand.sc = brand.ratings\n",
    "brand.sc[,1:9] = scale(brand.sc[,1:9])\n",
    "summary(brand.sc)"
   ]
  },
  {
   "cell_type": "markdown",
   "metadata": {},
   "source": [
    "In corrplot(), the argument order=\"hclust\" reorders the rows and columns according to variables’ similarity in a hierarchical cluster solution. The result is shown in Fig, where we see that the ratings seem to group into three clusters of similar variables, a hypothesis we examine in detail in this chapter."
   ]
  },
  {
   "cell_type": "code",
   "execution_count": 9,
   "metadata": {},
   "outputs": [
    {
     "name": "stderr",
     "output_type": "stream",
     "text": [
      "Installing package into 'C:/Users/cl44343/Documents/R/win-library/3.4'\n",
      "(as 'lib' is unspecified)\n"
     ]
    },
    {
     "name": "stdout",
     "output_type": "stream",
     "text": [
      "package 'corrplot' successfully unpacked and MD5 sums checked\n",
      "\n",
      "The downloaded binary packages are in\n",
      "\tC:\\Temp\\RtmpYrBolK\\downloaded_packages\n"
     ]
    }
   ],
   "source": [
    "install.packages('corrplot')\n",
    "library(corrplot)"
   ]
  },
  {
   "cell_type": "code",
   "execution_count": 10,
   "metadata": {},
   "outputs": [
    {
     "data": {
      "image/png": "[encoded data removed]",
      "text/plain": [
       "Plot with title \"\""
      ]
     },
     "metadata": {},
     "output_type": "display_data"
    }
   ],
   "source": [
    "corrplot(cor(brand.sc[,1:9]), order='hclust')"
   ]
  },
  {
   "cell_type": "code",
   "execution_count": null,
   "metadata": {},
   "outputs": [],
   "source": []
  },
  {
   "cell_type": "code",
   "execution_count": null,
   "metadata": {},
   "outputs": [],
   "source": []
  },
  {
   "cell_type": "code",
   "execution_count": null,
   "metadata": {},
   "outputs": [],
   "source": []
  },
  {
   "cell_type": "code",
   "execution_count": null,
   "metadata": {},
   "outputs": [],
   "source": []
  },
  {
   "cell_type": "code",
   "execution_count": null,
   "metadata": {},
   "outputs": [],
   "source": []
  },
  {
   "cell_type": "code",
   "execution_count": null,
   "metadata": {},
   "outputs": [],
   "source": []
  }
 ],
 "metadata": {
  "kernelspec": {
   "display_name": "R",
   "language": "R",
   "name": "ir"
  },
  "language_info": {
   "codemirror_mode": "r",
   "file_extension": ".r",
   "mimetype": "text/x-r-source",
   "name": "R",
   "pygments_lexer": "r",
   "version": "3.4.3"
  }
 },
 "nbformat": 4,
 "nbformat_minor": 2
}
